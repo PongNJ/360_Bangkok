{
 "cells": [
  {
   "cell_type": "markdown",
   "metadata": {},
   "source": [
    "# 360_Bangkok\n",
    "This note book uses to download 360 images taken by GoPro Max camera mounted on a helmet while riding a motorcycle from December 18, 2022, to January 16, 2023."
   ]
  },
  {
   "cell_type": "markdown",
   "metadata": {},
   "source": [
    "## How to download Street View Images (SVIs) from Mapillary\n",
    "\n",
    "https://www.mapillary.com/developer/api-documentation\n",
    "\n",
    "### You need to create an account and get an API key from here: \n",
    "https://www.mapillary.com/dashboard/developers\n"
   ]
  },
  {
   "cell_type": "code",
   "execution_count": 2,
   "metadata": {},
   "outputs": [],
   "source": [
    "# List of access tokens\n",
    "tokens = [\"List of access tokens here\"]\n"
   ]
  },
  {
   "cell_type": "markdown",
   "metadata": {},
   "source": [
    "## Download images from Mapillary"
   ]
  },
  {
   "cell_type": "markdown",
   "metadata": {},
   "source": [
    "### creator_id = 104320792344944"
   ]
  },
  {
   "cell_type": "markdown",
   "metadata": {},
   "source": [
    "### Download geojson (information)"
   ]
  },
  {
   "cell_type": "code",
   "execution_count": 8,
   "metadata": {},
   "outputs": [
    {
     "name": "stdout",
     "output_type": "stream",
     "text": [
      "GeoJSON data saved to .//360_Bangkok\\mapillary_metadata.geojson\n"
     ]
    }
   ],
   "source": [
    "import os\n",
    "import requests\n",
    "import mercantile\n",
    "import json\n",
    "from vt2geojson.tools import vt_bytes_to_geojson\n",
    "import datetime\n",
    "import random\n",
    "\n",
    "# Set up paths and folders\n",
    "folder_name = './/360_Bangkok'\n",
    "if not os.path.exists(folder_name):\n",
    "    os.makedirs(folder_name)\n",
    "\n",
    "# Select a random token\n",
    "selected_token = random.choice(tokens)\n",
    "\n",
    "# Headers for requests\n",
    "headers = {'Authorization': f'OAuth {selected_token}'}\n",
    "\n",
    "# Initialize an empty GeoJSON for output\n",
    "output = {\"type\": \"FeatureCollection\", \"features\": []}\n",
    "\n",
    "# Date range filter: December 18, 2022, to January 16, 2023\n",
    "start_date = datetime.datetime(2022, 12, 18)\n",
    "end_date = datetime.datetime(2023, 1, 16)\n",
    "\n",
    "# Filter creator_id\n",
    "filter_creator_id = 104320792344944\n",
    "\n",
    "# Define the bounding box (west, south, east, north) for the area of interest\n",
    "bounding_box = (100.450229, 13.695348, 100.633392, 13.918410)\n",
    "\n",
    "# Collect tiles at zoom level 14 within the bounding box\n",
    "tiles = list(mercantile.tiles(*bounding_box, 14))\n",
    "\n",
    "# Loop through the tiles and fetch data\n",
    "for tile in tiles:\n",
    "    tile_url = f'https://tiles.mapillary.com/maps/vtp/mly1_public/2/{tile.z}/{tile.x}/{tile.y}?access_token={selected_token}'\n",
    "    response = requests.get(tile_url)\n",
    "    if response.status_code == 200:\n",
    "        data = vt_bytes_to_geojson(response.content, tile.x, tile.y, tile.z, layer=\"image\")\n",
    "\n",
    "        # Process each feature in the geojson\n",
    "        for feature in data['features']:\n",
    "            coords = feature['geometry']['coordinates']\n",
    "            properties = feature['properties']\n",
    "            lng, lat = coords\n",
    "            sequence_id = properties['sequence_id']\n",
    "            image_id = properties['id']\n",
    "            captured_at = properties['captured_at']\n",
    "            compass_angle = properties['compass_angle']\n",
    "            is_pano = properties['is_pano']\n",
    "            creator_id = properties.get('creator_id')\n",
    "\n",
    "            capture_date = datetime.datetime.fromtimestamp(int(captured_at) / 1000)  # assuming captured_at is in milliseconds\n",
    "\n",
    "            # Ensure the feature matches the creator_id, and falls within the date range\n",
    "            if creator_id == filter_creator_id and start_date <= capture_date <= end_date:\n",
    "                # Append metadata to output geojson\n",
    "                feature['properties'].update({\n",
    "                    \"captured_at\": captured_at,\n",
    "                    \"compass_angle\": compass_angle,\n",
    "                    \"is_pano\": is_pano,\n",
    "                    \"image_id\": image_id  # Add image ID to the properties (instead of the image URL)\n",
    "                })\n",
    "                output['features'].append(feature)\n",
    "\n",
    "# Save the GeoJSON object to a file\n",
    "geojson_path = os.path.join(folder_name, 'mapillary_metadata.geojson')\n",
    "with open(geojson_path, 'w') as file:\n",
    "    json.dump(output, file, indent=4)  # Use indent=4 for better readability\n",
    "\n",
    "print(f\"GeoJSON data saved to {geojson_path}\")\n"
   ]
  },
  {
   "cell_type": "markdown",
   "metadata": {},
   "source": [
    "### Download images"
   ]
  },
  {
   "cell_type": "code",
   "execution_count": null,
   "metadata": {},
   "outputs": [],
   "source": [
    "import os\n",
    "import requests\n",
    "import mercantile\n",
    "import json\n",
    "from vt2geojson.tools import vt_bytes_to_geojson\n",
    "import datetime\n",
    "import random\n",
    "\n",
    "# Set up paths and folders\n",
    "folder_name = './/360_Bangkok'\n",
    "if not os.path.exists(folder_name):\n",
    "    os.makedirs(folder_name)\n",
    "\n",
    "# Select a random token\n",
    "selected_token = random.choice(tokens)\n",
    "\n",
    "# Headers for image download requests\n",
    "headers = {'Authorization': f'OAuth {selected_token}'}\n",
    "\n",
    "# Initialize an empty GeoJSON for output\n",
    "output = {\"type\": \"FeatureCollection\", \"features\": []}\n",
    "\n",
    "# Date range filter: December 18, 2022, to January 16, 2023\n",
    "start_date = datetime.datetime(2022, 12, 18)\n",
    "end_date = datetime.datetime(2023, 1, 16)\n",
    "\n",
    "# Filter creator_id\n",
    "filter_creator_id = 104320792344944\n",
    "#13.918410, 100.450229\n",
    "#13.695348, 100.633392\n",
    "# Define the bounding box (west, south, east, north) for the area of interest\n",
    "bounding_box = (100.450229, 13.695348, 100.633392,13.918410 )  # Replace with actual coordinates\n",
    "\n",
    "# Collect tiles at zoom level 14 within the bounding box\n",
    "tiles = list(mercantile.tiles(*bounding_box, 14))\n",
    "\n",
    "# Loop through the tiles and fetch data\n",
    "for tile in tiles:\n",
    "    tile_url = f'https://tiles.mapillary.com/maps/vtp/mly1_public/2/{tile.z}/{tile.x}/{tile.y}?access_token={selected_token}'\n",
    "    response = requests.get(tile_url)\n",
    "    if response.status_code == 200:\n",
    "        data = vt_bytes_to_geojson(response.content, tile.x, tile.y, tile.z, layer=\"image\")\n",
    "\n",
    "        # Process each feature in the geojson\n",
    "        for feature in data['features']:\n",
    "            coords = feature['geometry']['coordinates']\n",
    "            properties = feature['properties']\n",
    "            lng, lat = coords\n",
    "            sequence_id = properties['sequence_id']\n",
    "            image_id = properties['id']\n",
    "            captured_at = properties['captured_at']\n",
    "            compass_angle = properties['compass_angle']\n",
    "            is_pano = properties['is_pano']\n",
    "            creator_id = properties.get('creator_id')\n",
    "\n",
    "            capture_date = datetime.datetime.fromtimestamp(int(captured_at) / 1000)  # assuming captured_at is in milliseconds\n",
    "\n",
    "            # Ensure the feature matches the creator_id, and falls within the date range\n",
    "            if creator_id == filter_creator_id and start_date <= capture_date <= end_date:\n",
    "                # Fetch the image URL\n",
    "                image_info_url = f'https://graph.mapillary.com/{image_id}?fields=id,thumb_2048_url&access_token={selected_token}'\n",
    "                image_info_response = requests.get(image_info_url, headers=headers)\n",
    "                if image_info_response.status_code == 200:\n",
    "                    image_info = image_info_response.json()\n",
    "                    image_url = image_info['thumb_2048_url']\n",
    "\n",
    "                    # Download the image and save it with metadata\n",
    "                    image_response = requests.get(image_url, stream=True)\n",
    "                    if image_response.status_code == 200:\n",
    "                        image_path = os.path.join(folder_name, f'{image_id}.jpg')\n",
    "                        with open(image_path, 'wb') as file:\n",
    "                            file.write(image_response.content)\n",
    "\n",
    "                        # Append metadata to output geojson\n",
    "                        feature['properties'].update({\n",
    "                            \"captured_at\": captured_at,\n",
    "                            \"compass_angle\": compass_angle,\n",
    "                            \"is_pano\": is_pano,\n",
    "                            \"image_url\": image_url  # Add image URL to the properties\n",
    "                        })\n",
    "                        output['features'].append(feature)\n",
    "\n",
    "# Save the GeoJSON object to a file\n",
    "geojson_path = os.path.join(folder_name, 'mapillary_metadata.geojson')\n",
    "with open(geojson_path, 'w') as file:\n",
    "    json.dump(output, file, indent=4)  # Use indent=4 for better readability\n",
    "\n",
    "print(f\"GeoJSON data saved to {geojson_path}\")\n"
   ]
  }
 ],
 "metadata": {
  "kernelspec": {
   "display_name": "Python 3",
   "language": "python",
   "name": "python3"
  },
  "language_info": {
   "codemirror_mode": {
    "name": "ipython",
    "version": 3
   },
   "file_extension": ".py",
   "mimetype": "text/x-python",
   "name": "python",
   "nbconvert_exporter": "python",
   "pygments_lexer": "ipython3",
   "version": "3.11.9"
  }
 },
 "nbformat": 4,
 "nbformat_minor": 2
}
